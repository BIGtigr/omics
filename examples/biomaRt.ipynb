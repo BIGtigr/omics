{
 "cells": [
  {
   "cell_type": "markdown",
   "metadata": {},
   "source": [
    "# Access Ensembl BioMart using biomart module"
   ]
  },
  {
   "cell_type": "markdown",
   "metadata": {},
   "source": [
    "We use `rpy2` and R magics in IPython Notebook to utilize the powerful `biomaRt` package in R.\n",
    "\n",
    "**Usage**:\n",
    "\n",
    "1. Run [Setup](#Setup)\n",
    "2. [Select a mart & dataset](#Select a mart & dataset)\n",
    "3. Demo\n",
    "  1. [All genes on Y chromosome](#All genes on Y chromosome)\n",
    "  2. [Annotate a gene list](#Annotate a gene list)\n",
    "\n",
    "**Ref:**\n",
    "\n",
    "* Blog post: [Some basics of biomaRt](https://nsaunders.wordpress.com/2015/04/28/some-basics-of-biomart/)\n",
    "* Table of Assemblies: http://www.ensembl.org/info/website/archives/assembly.html"
   ]
  },
  {
   "cell_type": "markdown",
   "metadata": {},
   "source": [
    "# Setup"
   ]
  },
  {
   "cell_type": "code",
   "execution_count": 1,
   "metadata": {
    "collapsed": true
   },
   "outputs": [],
   "source": [
    "import pandas as pd\n",
    "%load_ext rpy2.ipython"
   ]
  },
  {
   "cell_type": "code",
   "execution_count": 16,
   "metadata": {
    "collapsed": false,
    "scrolled": true
   },
   "outputs": [],
   "source": [
    "%%R\n",
    "library(biomaRt)"
   ]
  },
  {
   "cell_type": "code",
   "execution_count": 4,
   "metadata": {
    "collapsed": false
   },
   "outputs": [
    {
     "data": {
      "application/json": {
       "Software versions": [
        {
         "module": "Python",
         "version": "2.7.12 64bit [GCC 4.4.7 20120313 (Red Hat 4.4.7-1)]"
        },
        {
         "module": "IPython",
         "version": "4.1.2"
        },
        {
         "module": "OS",
         "version": "Linux 2.6.32 431.3.1.el6.x86_64 x86_64 with centos 6.8 Final"
        },
        {
         "module": "pandas",
         "version": "0.18.0"
        },
        {
         "module": "rpy2",
         "version": "2.7.4"
        }
       ]
      },
      "text/html": [
       "<table><tr><th>Software</th><th>Version</th></tr><tr><td>Python</td><td>2.7.12 64bit [GCC 4.4.7 20120313 (Red Hat 4.4.7-1)]</td></tr><tr><td>IPython</td><td>4.1.2</td></tr><tr><td>OS</td><td>Linux 2.6.32 431.3.1.el6.x86_64 x86_64 with centos 6.8 Final</td></tr><tr><td>pandas</td><td>0.18.0</td></tr><tr><td>rpy2</td><td>2.7.4</td></tr><tr><td colspan='2'>Sun Nov 13 23:12:13 2016 EST</td></tr></table>"
      ],
      "text/latex": [
       "\\begin{tabular}{|l|l|}\\hline\n",
       "{\\bf Software} & {\\bf Version} \\\\ \\hline\\hline\n",
       "Python & 2.7.12 64bit [GCC 4.4.7 20120313 (Red Hat 4.4.7-1)] \\\\ \\hline\n",
       "IPython & 4.1.2 \\\\ \\hline\n",
       "OS & Linux 2.6.32 431.3.1.el6.x86\\_64 x86\\_64 with centos 6.8 Final \\\\ \\hline\n",
       "pandas & 0.18.0 \\\\ \\hline\n",
       "rpy2 & 2.7.4 \\\\ \\hline\n",
       "\\hline \\multicolumn{2}{|l|}{Sun Nov 13 23:12:13 2016 EST} \\\\ \\hline\n",
       "\\end{tabular}\n"
      ],
      "text/plain": [
       "Software versions\n",
       "Python 2.7.12 64bit [GCC 4.4.7 20120313 (Red Hat 4.4.7-1)]\n",
       "IPython 4.1.2\n",
       "OS Linux 2.6.32 431.3.1.el6.x86_64 x86_64 with centos 6.8 Final\n",
       "pandas 0.18.0\n",
       "rpy2 2.7.4\n",
       "Sun Nov 13 23:12:13 2016 EST"
      ]
     },
     "execution_count": 4,
     "metadata": {},
     "output_type": "execute_result"
    }
   ],
   "source": [
    "%load_ext version_information\n",
    "%version_information pandas, rpy2"
   ]
  },
  {
   "cell_type": "markdown",
   "metadata": {},
   "source": [
    "# Tutorial"
   ]
  },
  {
   "cell_type": "markdown",
   "metadata": {},
   "source": [
    "## What marts are available?"
   ]
  },
  {
   "cell_type": "markdown",
   "metadata": {},
   "source": [
    "Current build (**currently not working...**):"
   ]
  },
  {
   "cell_type": "code",
   "execution_count": 15,
   "metadata": {
    "collapsed": false,
    "scrolled": true
   },
   "outputs": [
    {
     "name": "stdout",
     "output_type": "stream",
     "text": [
      "Space required after the Public Identifier\n",
      "SystemLiteral \" or ' expected\n",
      "SYSTEM or PUBLIC, the URI is missing\n",
      "Opening and ending tag mismatch: hr line 7 and body\n",
      "Opening and ending tag mismatch: body line 4 and html\n",
      "Premature end of data in tag html line 2\n",
      "Error: 1: Space required after the Public Identifier\n",
      "2: SystemLiteral \" or ' expected\n",
      "3: SYSTEM or PUBLIC, the URI is missing\n",
      "4: Opening and ending tag mismatch: hr line 7 and body\n",
      "5: Opening and ending tag mismatch: body line 4 and html\n",
      "6: Premature end of data in tag html line 2\n"
     ]
    }
   ],
   "source": [
    "%%R\n",
    "marts = listMarts()\n",
    "head(marts)"
   ]
  },
  {
   "cell_type": "markdown",
   "metadata": {},
   "source": [
    "Sometimes you need to specify a particular genome build (e.g., **GTEx v6** used **GENCODE v19**, which was based on GRCh37.p13 = Ensembl 74):"
   ]
  },
  {
   "cell_type": "code",
   "execution_count": 4,
   "metadata": {
    "collapsed": false,
    "scrolled": false
   },
   "outputs": [
    {
     "data": {
      "text/plain": [
       "               biomart               version\n",
       "1 ENSEMBL_MART_ENSEMBL      Ensembl Genes 74\n",
       "2     ENSEMBL_MART_SNP  Ensembl Variation 74\n",
       "3 ENSEMBL_MART_FUNCGEN Ensembl Regulation 74\n",
       "4    ENSEMBL_MART_VEGA               Vega 54\n",
       "5                pride        PRIDE (EBI UK)\n"
      ]
     },
     "metadata": {},
     "output_type": "display_data"
    }
   ],
   "source": [
    "%%R\n",
    "marts.v74 = listMarts(host=\"dec2013.archive.ensembl.org\")\n",
    "head(marts.v74)"
   ]
  },
  {
   "cell_type": "markdown",
   "metadata": {},
   "source": [
    "## What datasets are available?"
   ]
  },
  {
   "cell_type": "code",
   "execution_count": 4,
   "metadata": {
    "collapsed": true
   },
   "outputs": [
    {
     "name": "stdout",
     "output_type": "stream",
     "text": [
      "Space required after the Public Identifier\n",
      "SystemLiteral \" or ' expected\n",
      "SYSTEM or PUBLIC, the URI is missing\n",
      "Opening and ending tag mismatch: hr line 7 and body\n",
      "Opening and ending tag mismatch: body line 4 and html\n",
      "Premature end of data in tag html line 2\n",
      "Error: 1: Space required after the Public Identifier\n",
      "2: SystemLiteral \" or ' expected\n",
      "3: SYSTEM or PUBLIC, the URI is missing\n",
      "4: Opening and ending tag mismatch: hr line 7 and body\n",
      "5: Opening and ending tag mismatch: body line 4 and html\n",
      "6: Premature end of data in tag html line 2\n"
     ]
    },
    {
     "name": "stderr",
     "output_type": "stream",
     "text": [
      "/cbhomes/cychen/anaconda/lib/python2.7/site-packages/rpy2-2.6.0-py2.7-linux-x86_64.egg/rpy2/robjects/functions.py:106: UserWarning: Error: 1: Space required after the Public Identifier\n",
      "2: SystemLiteral \" or ' expected\n",
      "3: SYSTEM or PUBLIC, the URI is missing\n",
      "4: Opening and ending tag mismatch: hr line 7 and body\n",
      "5: Opening and ending tag mismatch: body line 4 and html\n",
      "6: Premature end of data in tag html line 2\n",
      "\n",
      "  res = super(Function, self).__call__(*new_args, **new_kwargs)\n"
     ]
    }
   ],
   "source": [
    "%%R\n",
    "datasets = listDatasets(useMart(\"ensembl\"))\n",
    "head(datasets)"
   ]
  },
  {
   "cell_type": "markdown",
   "metadata": {},
   "source": [
    "## Select a mart & dataset"
   ]
  },
  {
   "cell_type": "code",
   "execution_count": 7,
   "metadata": {
    "collapsed": false
   },
   "outputs": [
    {
     "name": "stdout",
     "output_type": "stream",
     "text": [
      "Space required after the Public Identifier\n",
      "SystemLiteral \" or ' expected\n",
      "SYSTEM or PUBLIC, the URI is missing\n",
      "Opening and ending tag mismatch: hr line 7 and body\n",
      "Opening and ending tag mismatch: body line 4 and html\n",
      "Premature end of data in tag html line 2\n",
      "Error: 1: Space required after the Public Identifier\n",
      "2: SystemLiteral \" or ' expected\n",
      "3: SYSTEM or PUBLIC, the URI is missing\n",
      "4: Opening and ending tag mismatch: hr line 7 and body\n",
      "5: Opening and ending tag mismatch: body line 4 and html\n",
      "6: Premature end of data in tag html line 2\n"
     ]
    }
   ],
   "source": [
    "%%R\n",
    "mart.hsa = useMart(\"ensembl\", \"hsapiens_gene_ensembl\")"
   ]
  },
  {
   "cell_type": "markdown",
   "metadata": {},
   "source": [
    "For an old archive, you can even specify the archive version when calling `useMart`, e.g.,"
   ]
  },
  {
   "cell_type": "code",
   "execution_count": 8,
   "metadata": {
    "collapsed": true
   },
   "outputs": [],
   "source": [
    "%%R\n",
    "mart74.hsa = useMart(\"ENSEMBL_MART_ENSEMBL\", \"hsapiens_gene_ensembl\", host=\"dec2013.archive.ensembl.org\")"
   ]
  },
  {
   "cell_type": "markdown",
   "metadata": {},
   "source": [
    "We will use mart build v74 as our example"
   ]
  },
  {
   "cell_type": "code",
   "execution_count": 9,
   "metadata": {
    "collapsed": false
   },
   "outputs": [],
   "source": [
    "%%R\n",
    "mart.hsa = mart74.hsa"
   ]
  },
  {
   "cell_type": "markdown",
   "metadata": {},
   "source": [
    "## What attributes and filters can I use?"
   ]
  },
  {
   "cell_type": "markdown",
   "metadata": {},
   "source": [
    "* **Attributes** are the identifiers that you want to retrieve. For example HGNC gene ID, chromosome name, Ensembl transcript ID.\n",
    "* **Filters** are the identifiers that you supply in a query. Some but not all of the filter names may be the same as the attribute names.\n",
    "* **Values** are the filter identifiers themselves. For example the values of the filter “HGNC symbol” could be 3 genes “TP53”, “SRY” and “KIAA1199”."
   ]
  },
  {
   "cell_type": "code",
   "execution_count": 13,
   "metadata": {
    "collapsed": false
   },
   "outputs": [
    {
     "data": {
      "text/plain": [
       "                   name           description\n",
       "1       ensembl_gene_id       Ensembl Gene ID\n",
       "2 ensembl_transcript_id Ensembl Transcript ID\n",
       "3    ensembl_peptide_id    Ensembl Protein ID\n",
       "4       ensembl_exon_id       Ensembl Exon ID\n",
       "5           description           Description\n",
       "6       chromosome_name       Chromosome Name\n"
      ]
     },
     "metadata": {},
     "output_type": "display_data"
    }
   ],
   "source": [
    "%%R\n",
    "attributes <- listAttributes(mart.hsa)\n",
    "head(attributes)"
   ]
  },
  {
   "cell_type": "code",
   "execution_count": 14,
   "metadata": {
    "collapsed": false
   },
   "outputs": [
    {
     "data": {
      "text/plain": [
       "             name     description\n",
       "1 chromosome_name Chromosome name\n",
       "2           start Gene Start (bp)\n",
       "3             end   Gene End (bp)\n",
       "4      band_start      Band Start\n",
       "5        band_end        Band End\n",
       "6    marker_start    Marker Start\n"
      ]
     },
     "metadata": {},
     "output_type": "display_data"
    }
   ],
   "source": [
    "%%R\n",
    "filters <- listFilters(mart.hsa)\n",
    "head(filters)"
   ]
  },
  {
   "cell_type": "markdown",
   "metadata": {},
   "source": [
    "You can search for specific attributes by running `grep()` on the name. For example, if you’re looking for Affymetrix microarray probeset IDs:"
   ]
  },
  {
   "cell_type": "code",
   "execution_count": 15,
   "metadata": {
    "collapsed": false
   },
   "outputs": [
    {
     "data": {
      "text/plain": [
       "                  name                  description\n",
       "91        affy_hc_g110        Affy HC G110 probeset\n",
       "92       affy_hg_focus       Affy HG FOCUS probeset\n",
       "93 affy_hg_u133_plus_2 Affy HG U133-PLUS-2 probeset\n",
       "94     affy_hg_u133a_2     Affy HG U133A_2 probeset\n",
       "95       affy_hg_u133a       Affy HG U133A probeset\n",
       "96       affy_hg_u133b       Affy HG U133B probeset\n"
      ]
     },
     "metadata": {},
     "output_type": "display_data"
    }
   ],
   "source": [
    "%%R\n",
    "head(attributes[grep(\"affy\", attributes$name),])"
   ]
  },
  {
   "cell_type": "markdown",
   "metadata": {},
   "source": [
    "# Demo"
   ]
  },
  {
   "cell_type": "markdown",
   "metadata": {},
   "source": [
    "## All genes on Y chromosome"
   ]
  },
  {
   "cell_type": "markdown",
   "metadata": {},
   "source": [
    "Query in R:"
   ]
  },
  {
   "cell_type": "code",
   "execution_count": 16,
   "metadata": {
    "collapsed": false
   },
   "outputs": [
    {
     "data": {
      "text/plain": [
       "  ensembl_gene_id hgnc_symbol chromosome_name\n",
       "1 ENSG00000226555       AGKP1               Y\n",
       "2 ENSG00000228787  NLGN4Y-AS1               Y\n",
       "3 ENSG00000236131     MED13P1               Y\n",
       "4 ENSG00000227949     CYCSP46               Y\n",
       "5 ENSG00000224518                           Y\n",
       "6 ENSG00000234620     HDHD1P1               Y\n"
      ]
     },
     "metadata": {},
     "output_type": "display_data"
    }
   ],
   "source": [
    "%%R -o df\n",
    "df = getBM(attributes=c(\"ensembl_gene_id\", \"hgnc_symbol\", \"chromosome_name\"), \n",
    "           filters=\"chromosome_name\",\n",
    "           values=\"Y\",\n",
    "           mart=mart.hsa)\n",
    "head(df)"
   ]
  },
  {
   "cell_type": "markdown",
   "metadata": {},
   "source": [
    "Accessible in Python:"
   ]
  },
  {
   "cell_type": "code",
   "execution_count": 17,
   "metadata": {
    "collapsed": false
   },
   "outputs": [
    {
     "data": {
      "text/html": [
       "<div>\n",
       "<table border=\"1\" class=\"dataframe\">\n",
       "  <thead>\n",
       "    <tr style=\"text-align: right;\">\n",
       "      <th></th>\n",
       "      <th>ensembl_gene_id</th>\n",
       "      <th>hgnc_symbol</th>\n",
       "      <th>chromosome_name</th>\n",
       "    </tr>\n",
       "  </thead>\n",
       "  <tbody>\n",
       "    <tr>\n",
       "      <th>0</th>\n",
       "      <td>ENSG00000226555</td>\n",
       "      <td>AGKP1</td>\n",
       "      <td>Y</td>\n",
       "    </tr>\n",
       "    <tr>\n",
       "      <th>1</th>\n",
       "      <td>ENSG00000228787</td>\n",
       "      <td>NLGN4Y-AS1</td>\n",
       "      <td>Y</td>\n",
       "    </tr>\n",
       "    <tr>\n",
       "      <th>2</th>\n",
       "      <td>ENSG00000236131</td>\n",
       "      <td>MED13P1</td>\n",
       "      <td>Y</td>\n",
       "    </tr>\n",
       "    <tr>\n",
       "      <th>3</th>\n",
       "      <td>ENSG00000227949</td>\n",
       "      <td>CYCSP46</td>\n",
       "      <td>Y</td>\n",
       "    </tr>\n",
       "    <tr>\n",
       "      <th>4</th>\n",
       "      <td>ENSG00000224518</td>\n",
       "      <td></td>\n",
       "      <td>Y</td>\n",
       "    </tr>\n",
       "  </tbody>\n",
       "</table>\n",
       "</div>"
      ],
      "text/plain": [
       "   ensembl_gene_id hgnc_symbol chromosome_name\n",
       "0  ENSG00000226555       AGKP1               Y\n",
       "1  ENSG00000228787  NLGN4Y-AS1               Y\n",
       "2  ENSG00000236131     MED13P1               Y\n",
       "3  ENSG00000227949     CYCSP46               Y\n",
       "4  ENSG00000224518                           Y"
      ]
     },
     "execution_count": 17,
     "metadata": {},
     "output_type": "execute_result"
    }
   ],
   "source": [
    "df.head()"
   ]
  },
  {
   "cell_type": "markdown",
   "metadata": {},
   "source": [
    "## Annotate a gene list"
   ]
  },
  {
   "cell_type": "code",
   "execution_count": 18,
   "metadata": {
    "collapsed": false
   },
   "outputs": [],
   "source": [
    "genes = [\"ENSG00000135245\", \"ENSG00000240758\", \"ENSG00000225490\"]"
   ]
  },
  {
   "cell_type": "code",
   "execution_count": 22,
   "metadata": {
    "collapsed": false
   },
   "outputs": [
    {
     "data": {
      "text/plain": [
       "  ensembl_gene_id hgnc_symbol external_gene_id chromosome_name\n",
       "1 ENSG00000135245      HILPDA           HILPDA               7\n",
       "2 ENSG00000225490                 RP4-610C12.3              20\n",
       "3 ENSG00000240758                RP11-155G14.6               7\n",
       "          gene_biotype\n",
       "1       protein_coding\n",
       "2              lincRNA\n",
       "3 processed_transcript\n",
       "                                                                description\n",
       "1 hypoxia inducible lipid droplet-associated [Source:HGNC Symbol;Acc:28859]\n",
       "2                                                                          \n",
       "3                                                                          \n"
      ]
     },
     "metadata": {},
     "output_type": "display_data"
    }
   ],
   "source": [
    "%%R -i genes -o df\n",
    "df = getBM(attributes=c(\"ensembl_gene_id\", \"hgnc_symbol\", \"external_gene_id\", \"chromosome_name\", \"gene_biotype\", \"description\"),\n",
    "              filters=\"ensembl_gene_id\",\n",
    "              values=genes,\n",
    "              mart=mart.hsa)\n",
    "df"
   ]
  },
  {
   "cell_type": "code",
   "execution_count": 23,
   "metadata": {
    "collapsed": false,
    "scrolled": false
   },
   "outputs": [
    {
     "data": {
      "text/html": [
       "<div>\n",
       "<table border=\"1\" class=\"dataframe\">\n",
       "  <thead>\n",
       "    <tr style=\"text-align: right;\">\n",
       "      <th></th>\n",
       "      <th>ensembl_gene_id</th>\n",
       "      <th>hgnc_symbol</th>\n",
       "      <th>external_gene_id</th>\n",
       "      <th>chromosome_name</th>\n",
       "      <th>gene_biotype</th>\n",
       "      <th>description</th>\n",
       "    </tr>\n",
       "  </thead>\n",
       "  <tbody>\n",
       "    <tr>\n",
       "      <th>0</th>\n",
       "      <td>ENSG00000135245</td>\n",
       "      <td>HILPDA</td>\n",
       "      <td>HILPDA</td>\n",
       "      <td>7</td>\n",
       "      <td>protein_coding</td>\n",
       "      <td>hypoxia inducible lipid droplet-associated [So...</td>\n",
       "    </tr>\n",
       "    <tr>\n",
       "      <th>1</th>\n",
       "      <td>ENSG00000225490</td>\n",
       "      <td></td>\n",
       "      <td>RP4-610C12.3</td>\n",
       "      <td>20</td>\n",
       "      <td>lincRNA</td>\n",
       "      <td></td>\n",
       "    </tr>\n",
       "    <tr>\n",
       "      <th>2</th>\n",
       "      <td>ENSG00000240758</td>\n",
       "      <td></td>\n",
       "      <td>RP11-155G14.6</td>\n",
       "      <td>7</td>\n",
       "      <td>processed_transcript</td>\n",
       "      <td></td>\n",
       "    </tr>\n",
       "  </tbody>\n",
       "</table>\n",
       "</div>"
      ],
      "text/plain": [
       "   ensembl_gene_id hgnc_symbol external_gene_id  chromosome_name  \\\n",
       "0  ENSG00000135245      HILPDA           HILPDA                7   \n",
       "1  ENSG00000225490                 RP4-610C12.3               20   \n",
       "2  ENSG00000240758                RP11-155G14.6                7   \n",
       "\n",
       "           gene_biotype                                        description  \n",
       "0        protein_coding  hypoxia inducible lipid droplet-associated [So...  \n",
       "1               lincRNA                                                     \n",
       "2  processed_transcript                                                     "
      ]
     },
     "execution_count": 23,
     "metadata": {},
     "output_type": "execute_result"
    }
   ],
   "source": [
    "df"
   ]
  }
 ],
 "metadata": {
  "kernelspec": {
   "display_name": "Python 2",
   "language": "python",
   "name": "python2"
  },
  "language_info": {
   "codemirror_mode": {
    "name": "ipython",
    "version": 2
   },
   "file_extension": ".py",
   "mimetype": "text/x-python",
   "name": "python",
   "nbconvert_exporter": "python",
   "pygments_lexer": "ipython2",
   "version": "2.7.12"
  },
  "toc": {
   "toc_cell": false,
   "toc_number_sections": true,
   "toc_threshold": 6,
   "toc_window_display": true
  }
 },
 "nbformat": 4,
 "nbformat_minor": 0
}
